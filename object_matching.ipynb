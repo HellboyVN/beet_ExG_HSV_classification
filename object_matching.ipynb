{
 "cells": [
  {
   "cell_type": "code",
   "execution_count": 1,
   "metadata": {},
   "outputs": [],
   "source": [
    "import tensorflow as tf\n",
    "import numpy as np\n",
    "import cv2\n",
    "import matplotlib.pyplot as plt\n",
    "import os\n",
    "from tensorflow.keras import datasets, layers, models"
   ]
  },
  {
   "cell_type": "code",
   "execution_count": 18,
   "metadata": {},
   "outputs": [
    {
     "name": "stdout",
     "output_type": "stream",
     "text": [
      "(480, 64, 64)\n",
      "(480, 64, 64)\n"
     ]
    }
   ],
   "source": [
    "X = []\n",
    "Y = []\n",
    "for i in range(480):\n",
    "    input = \"results/\"+\"img_\"+str(i)+\"/exg.jpg\"\n",
    "    out_beet = \"results/\"+\"img_\"+str(i)+\"/beet.jpg\"\n",
    "    out_thistle = \"results/\"+\"img_\"+str(i)+\"/thistle.jpg\"\n",
    "    img_in = cv2.imread(input)\n",
    "    img_in = cv2.cvtColor(img_in, cv2.COLOR_RGB2GRAY)\n",
    "    img_in = cv2.resize(img_in,(64,64))\n",
    "    img_beet = cv2.imread(out_beet)\n",
    "    img_beet = cv2.cvtColor(img_beet, cv2.COLOR_RGB2GRAY)\n",
    "    img_beet = cv2.resize(img_beet,(64,64))\n",
    "#     img_thistle = cv2.imread(out_thistle)\n",
    "#     img_thistle = cv2.cvtColor(img_thistle, cv2.COLOR_RGB2GRAY)\n",
    "    X.append(img_in)\n",
    "    Y.append(img_beet)\n",
    "#     Y.append(img_thistle)\n",
    "X = (np.asarray(X)/255)\n",
    "Y = (np.asarray(Y)/255)\n",
    "\n",
    "print(X.shape)\n",
    "print(Y.shape)\n",
    "\n",
    "#     cv2.imwrite(\"levan.jpg\",img_in)\n",
    "#     cv2.imshow(\"adas\",img_in)\n",
    "#     key = cv2.waitKey()\n",
    "#     if key == ord('q') or key == 27:\n",
    "#         cv2.destroyAllWindows()\n",
    "       \n",
    "    "
   ]
  },
  {
   "cell_type": "code",
   "execution_count": 19,
   "metadata": {},
   "outputs": [],
   "source": [
    "from sklearn.model_selection import train_test_split\n",
    "X_train, X_test, y_train, y_test = train_test_split(X, Y, test_size=0.2)\n",
    "# print(X_train)"
   ]
  },
  {
   "cell_type": "code",
   "execution_count": 23,
   "metadata": {},
   "outputs": [
    {
     "name": "stdout",
     "output_type": "stream",
     "text": [
      "_________________________________________________________________\n",
      "Layer (type)                 Output Shape              Param #   \n",
      "=================================================================\n",
      "flatten_8 (Flatten)          (None, 4096)              0         \n",
      "_________________________________________________________________\n",
      "dense_21 (Dense)             (None, 4096)              16781312  \n",
      "_________________________________________________________________\n",
      "dropout_13 (Dropout)         (None, 4096)              0         \n",
      "_________________________________________________________________\n",
      "dense_22 (Dense)             (None, 4096)              16781312  \n",
      "_________________________________________________________________\n",
      "dropout_14 (Dropout)         (None, 4096)              0         \n",
      "_________________________________________________________________\n",
      "dense_23 (Dense)             (None, 4096)              16781312  \n",
      "_________________________________________________________________\n",
      "dropout_15 (Dropout)         (None, 4096)              0         \n",
      "_________________________________________________________________\n",
      "dense_24 (Dense)             (None, 4096)              16781312  \n",
      "_________________________________________________________________\n",
      "dropout_16 (Dropout)         (None, 4096)              0         \n",
      "_________________________________________________________________\n",
      "dense_25 (Dense)             (None, 4096)              16781312  \n",
      "_________________________________________________________________\n",
      "dropout_17 (Dropout)         (None, 4096)              0         \n",
      "_________________________________________________________________\n",
      "dense_26 (Dense)             (None, 4096)              16781312  \n",
      "_________________________________________________________________\n",
      "reshape_8 (Reshape)          (None, 64, 64)            0         \n",
      "=================================================================\n",
      "Total params: 100,687,872\n",
      "Trainable params: 100,687,872\n",
      "Non-trainable params: 0\n",
      "_________________________________________________________________\n"
     ]
    }
   ],
   "source": [
    "\n",
    "\n",
    "model = tf.keras.models.Sequential([\n",
    "    tf.keras.layers.Flatten(input_shape=(64, 64)),\n",
    "#     tf.keras.layers.Conv2D(32, (3, 3), activation='relu', input_shape=(64, 64,1)),\n",
    "#     tf.keras.layers.MaxPooling2D((2, 2)),\n",
    "#     tf.keras.layers.Conv2D(64, (3, 3), activation='relu'),\n",
    "#     tf.keras.layers.MaxPooling2D((2, 2)),\n",
    "#     tf.keras.layers.Conv2D(64, (3, 3), activation='relu'),\n",
    "#     tf.keras.layers.MaxPooling2D((2, 2)),\n",
    "#     tf.keras.layers.Conv2D(64, (3, 3), activation='relu'),\n",
    "#     tf.keras.layers.MaxPooling2D((2, 2)),\n",
    "#     tf.keras.layers.Conv2D(32, (3, 3), activation='relu'),\n",
    "#     tf.keras.layers.MaxPooling2D((2, 2)),\n",
    "#     tf.keras.layers.Flatten(),\n",
    "    tf.keras.layers.Dense(4096, activation=tf.nn.relu),\n",
    "    tf.keras.layers.Dropout(0.1),\n",
    "    tf.keras.layers.Dense(4096, activation=tf.nn.relu),\n",
    "    tf.keras.layers.Dropout(0.1),\n",
    "    tf.keras.layers.Dense(4096, activation=tf.nn.relu),\n",
    "    tf.keras.layers.Dropout(0.1),\n",
    "    tf.keras.layers.Dense(4096, activation=tf.nn.relu),\n",
    "    tf.keras.layers.Dropout(0.1),\n",
    "    tf.keras.layers.Dense(4096, activation=tf.nn.relu),\n",
    "    tf.keras.layers.Dropout(0.1),\n",
    " \n",
    "    tf.keras.layers.Dense(4096, activation=tf.nn.softmax),\n",
    "    tf.keras.layers.Reshape((64,64))\n",
    "])\n",
    "model.summary()\n",
    "optimizer = tf.keras.optimizers.Adam(lr=0.1)\n",
    "model.compile(optimizer=optimizer,\n",
    "              loss='mse',\n",
    "              metrics=['accuracy'])\n",
    "\n"
   ]
  },
  {
   "cell_type": "code",
   "execution_count": 24,
   "metadata": {
    "scrolled": true
   },
   "outputs": [
    {
     "name": "stdout",
     "output_type": "stream",
     "text": [
      "Train on 384 samples, validate on 96 samples\n",
      "Epoch 1/10\n",
      "384/384 [==============================] - 50s 129ms/step - loss: 0.0474 - acc: 0.0133 - val_loss: 0.0475 - val_acc: 0.0146\n",
      "Epoch 2/10\n",
      "384/384 [==============================] - 30s 78ms/step - loss: 0.0475 - acc: 0.0635 - val_loss: 0.0477 - val_acc: 0.2524\n",
      "Epoch 3/10\n",
      "384/384 [==============================] - 30s 79ms/step - loss: 0.0477 - acc: 0.2956 - val_loss: 0.0477 - val_acc: 0.2524\n",
      "Epoch 4/10\n",
      "384/384 [==============================] - 30s 77ms/step - loss: 0.0477 - acc: 0.2956 - val_loss: 0.0477 - val_acc: 0.2524\n",
      "Epoch 5/10\n",
      "384/384 [==============================] - 30s 77ms/step - loss: 0.0477 - acc: 0.2956 - val_loss: 0.0477 - val_acc: 0.2524\n",
      "Epoch 6/10\n",
      "384/384 [==============================] - 29s 76ms/step - loss: 0.0477 - acc: 0.2956 - val_loss: 0.0477 - val_acc: 0.2524\n",
      "Epoch 7/10\n",
      "384/384 [==============================] - 29s 75ms/step - loss: 0.0477 - acc: 0.2956 - val_loss: 0.0477 - val_acc: 0.2524\n",
      "Epoch 8/10\n",
      "384/384 [==============================] - 29s 74ms/step - loss: 0.0477 - acc: 0.2956 - val_loss: 0.0477 - val_acc: 0.2524\n",
      "Epoch 9/10\n",
      "384/384 [==============================] - 29s 74ms/step - loss: 0.0477 - acc: 0.2956 - val_loss: 0.0477 - val_acc: 0.2524\n",
      "Epoch 10/10\n",
      "384/384 [==============================] - 28s 73ms/step - loss: 0.0477 - acc: 0.2956 - val_loss: 0.0477 - val_acc: 0.2524\n"
     ]
    },
    {
     "data": {
      "text/plain": [
       "<tensorflow.python.keras.callbacks.History at 0x1b8c0487358>"
      ]
     },
     "execution_count": 24,
     "metadata": {},
     "output_type": "execute_result"
    }
   ],
   "source": [
    "model.fit(X_train, y_train, epochs=10,validation_data=(X_test, y_test),verbose=1)\n"
   ]
  },
  {
   "cell_type": "code",
   "execution_count": 26,
   "metadata": {},
   "outputs": [
    {
     "name": "stdout",
     "output_type": "stream",
     "text": [
      "[[0. 0. 0. ... 0. 0. 0.]\n",
      " [0. 0. 0. ... 0. 0. 0.]\n",
      " [0. 0. 0. ... 0. 0. 0.]\n",
      " ...\n",
      " [0. 0. 0. ... 0. 0. 0.]\n",
      " [0. 0. 0. ... 0. 0. 0.]\n",
      " [0. 0. 0. ... 0. 0. 0.]]\n"
     ]
    }
   ],
   "source": [
    "test = cv2.imread(\"data_beet/im_\"+str(1)+\".jpg\")\n",
    "test = cv2.cvtColor(test, cv2.COLOR_RGB2GRAY)\n",
    "test = cv2.resize(test,(64,64))\n",
    "test = (np.asarray(test)/255).reshape(1,64,64)\n",
    "\n",
    "# print (test)\n",
    "out_test = model.predict(test).reshape(64,64)\n",
    "print(out_test)\n",
    "cv2.imwrite(\"levan.jpg\",out_test)\n",
    "cv2.imshow(\"adas\",out_test)\n",
    "key = cv2.waitKey()\n",
    "if key == ord('q') or key == 27:\n",
    "    cv2.destroyAllWindows()"
   ]
  },
  {
   "cell_type": "code",
   "execution_count": null,
   "metadata": {},
   "outputs": [],
   "source": []
  }
 ],
 "metadata": {
  "kernelspec": {
   "display_name": "Python 3",
   "language": "python",
   "name": "python3"
  },
  "language_info": {
   "codemirror_mode": {
    "name": "ipython",
    "version": 3
   },
   "file_extension": ".py",
   "mimetype": "text/x-python",
   "name": "python",
   "nbconvert_exporter": "python",
   "pygments_lexer": "ipython3",
   "version": "3.6.8"
  }
 },
 "nbformat": 4,
 "nbformat_minor": 2
}
